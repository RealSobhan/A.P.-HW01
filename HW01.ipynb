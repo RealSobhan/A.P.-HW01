{
 "cells": [
  {
   "attachments": {},
   "cell_type": "markdown",
   "metadata": {},
   "source": [
    "<p></p>\n",
    "<br />\n",
    "<div id=\"sec_intro_to_intro\" style=\"direction:ltl;line-height:250%;\">\n",
    "\t<font face=\"XB Zar\" size=5>\n",
    "\t\t<font color='crimson' size=7>\n",
    "            Creating parent class\n",
    "        </font>\n",
    "\t\t<p></p>\n",
    "\t\t<hr>\n",
    "       Creating parent class for child classes to inheriment.\n",
    "        <br />\n",
    "\t</font>\n",
    "</div>"
   ]
  },
  {
   "cell_type": "code",
   "execution_count": 7,
   "metadata": {},
   "outputs": [],
   "source": [
    "from abc import ABC, abstractmethod\n",
    "\n",
    "class Animal:\n",
    "    def __init__(self, name, color, age, category, weight, location):\n",
    "        self.name = name\n",
    "        self.color = color\n",
    "        self.age = age\n",
    "        self.category = category\n",
    "        self.weight = str(weight) + \" lb\"\n",
    "        self.location = location\n",
    "    \n",
    "    @abstractmethod\n",
    "    def speak(self):\n",
    "        pass\n",
    "    \n",
    "    @abstractmethod\n",
    "    def eat(self):\n",
    "        pass\n",
    "    \n",
    "    def introduce(self):\n",
    "        return f\"Hi! my name is {self.name} and my color is {self.color} and I'm {self.age} years old\"\n",
    "    \n",
    "    def walk(self):\n",
    "        return f\"{self.name} is a/an {self.category} and is walking\"\n",
    "\n",
    "    def set_location(self, location):\n",
    "        self.location = location \n",
    "    "
   ]
  },
  {
   "attachments": {},
   "cell_type": "markdown",
   "metadata": {},
   "source": [
    "<p></p>\n",
    "<br />\n",
    "<div id=\"sec_intro_to_intro\" style=\"direction:ltl;line-height:250%;\">\n",
    "\t<font face=\"XB Zar\" size=5>\n",
    "\t\t<font color='crimson' size=7>\n",
    "            Creating sub-classes\n",
    "        </font>\n",
    "\t\t<p></p>\n",
    "\t\t<hr>\n",
    "       Creating ## sub-classes of Animal class.\n",
    "        <br />\n",
    "\t</font>\n",
    "</div>"
   ]
  },
  {
   "cell_type": "code",
   "execution_count": 11,
   "metadata": {},
   "outputs": [],
   "source": [
    "class Dog(Animal):\n",
    "    \n",
    "    def __init__(self, name, color, age, weight, location):\n",
    "        super().__init__(name, color, age, \"category miad inja\", weight, location)\n",
    "        \n",
    "    def speak(self):\n",
    "        return \"Woof\"\n",
    "\n",
    "class Cat(Animal):\n",
    "    \n",
    "    def __init__(self, name, color, age, weight, location):\n",
    "        super().__init__(name, color, age, \"category miad inja\", weight, location)\n",
    "        \n",
    "    def speak(self):\n",
    "        return \"Meow\"\n",
    "\n",
    "class Cow(Animal):\n",
    "    \n",
    "    def __init__(self, name, color, age, weight, location):\n",
    "        super().__init__(name, color, age, \"category miad inja\", weight, location)\n",
    "        \n",
    "    def speak(self):\n",
    "        return \"Moo\"\n",
    "\n",
    "class Sheep(Animal):\n",
    "    \n",
    "    def __init__(self, name, color, age, weight, location):\n",
    "        super().__init__(name, color, age, \"category miad inja\", weight, location)\n",
    "        \n",
    "    def speak(self):\n",
    "        return \"Baa\"\n",
    "\n",
    "class Duck(Animal):\n",
    "    \n",
    "    def __init__(self, name, color, age, weight, location):\n",
    "        super().__init__(name, color, age, \"category miad inja\", weight, location)\n",
    "        \n",
    "    def speak(self):\n",
    "        return \"Quack\""
   ]
  },
  {
   "cell_type": "code",
   "execution_count": 9,
   "metadata": {},
   "outputs": [],
   "source": [
    "\n"
   ]
  },
  {
   "cell_type": "code",
   "execution_count": 10,
   "metadata": {},
   "outputs": [
    {
     "data": {
      "text/plain": [
       "'aliiiiiiiii'"
      ]
     },
     "execution_count": 10,
     "metadata": {},
     "output_type": "execute_result"
    }
   ],
   "source": [
    "li.category"
   ]
  },
  {
   "cell_type": "code",
   "execution_count": null,
   "metadata": {},
   "outputs": [],
   "source": []
  }
 ],
 "metadata": {
  "kernelspec": {
   "display_name": "Python 3",
   "language": "python",
   "name": "python3"
  },
  "language_info": {
   "codemirror_mode": {
    "name": "ipython",
    "version": 3
   },
   "file_extension": ".py",
   "mimetype": "text/x-python",
   "name": "python",
   "nbconvert_exporter": "python",
   "pygments_lexer": "ipython3",
   "version": "3.10.0"
  },
  "orig_nbformat": 4
 },
 "nbformat": 4,
 "nbformat_minor": 2
}
