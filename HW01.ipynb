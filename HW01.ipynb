{
 "cells": [
  {
   "attachments": {},
   "cell_type": "markdown",
   "metadata": {},
   "source": [
    "<p></p>\n",
    "<br />\n",
    "<div id=\"sec_intro_to_intro\" style=\"direction:ltl;line-height:300%;\">\n",
    "\t<font face=\"XB Zar\" size=5>\n",
    "\t\t<font color='crimson' size=7>\n",
    "            Parent class, Abstraction, Encapsulation & Composition\n",
    "        </font>\n",
    "\t\t<p></p>\n",
    "\t\t<hr>\n",
    "         Creating parent class for sub-classes to Inheriment and implement Abstraction, Encapsulation & Composition.\n",
    "        <br />\n",
    "\t</font>\n",
    "</div>"
   ]
  },
  {
   "attachments": {},
   "cell_type": "markdown",
   "metadata": {},
   "source": [
    "- **Encapsulation** implemented through $rate$ and $category$ variables. $rate$ is a protected variable and $category$ is a private variable.\n",
    "- **Composition** implemented through $Heart$ and $Brain$ classes. Each animal has a brain and their life span are same."
   ]
  },
  {
   "cell_type": "code",
   "execution_count": 1,
   "metadata": {},
   "outputs": [],
   "source": [
    "from abc import ABC, abstractmethod\n",
    "#1\n",
    "class Heart:\n",
    "    def __init__(self, heartrate):\n",
    "        self._heartrate = heartrate # Encapsulation\n",
    "        \n",
    "    def display_rate(self):\n",
    "        return self._heartrate\n",
    "    \n",
    "    def update_rate(self, new_rate):\n",
    "        self._heartrate = new_rate # Encapsulation\n",
    "#2\n",
    "class Brain:\n",
    "    def __init__(self, neurons):\n",
    "        self._neurons = neurons\n",
    "        \n",
    "    def get_neurons(self):\n",
    "        return self._neurons\n",
    "#3\n",
    "class Animal(ABC):\n",
    "    def __init__(self, name, color, age, category, weight, location, heartrate, brainneurons):\n",
    "        self.name = name\n",
    "        self.color = color\n",
    "        self.age = age\n",
    "        self.__category = category # Encapsulation\n",
    "        self.weight = weight\n",
    "        self.location = location\n",
    "        self.heartrate = heartrate\n",
    "        self.Heartobjet = Heart(self.heartrate) # Composition\n",
    "        self.brainneurons = brainneurons\n",
    "        self.brainobject = Brain(self.brainneurons) # Composition\n",
    "    \n",
    "    @abstractmethod # Abstraction\n",
    "    def speak(self):\n",
    "        pass\n",
    "    \n",
    "    @abstractmethod # Abstraction\n",
    "    def eat(self):\n",
    "        pass\n",
    "    \n",
    "    def introduce(self):\n",
    "        return f\"Hi! my name is {self.name} and my color is {self.color} and I'm {self.age} years old\"\n",
    "    \n",
    "    def walk(self):\n",
    "        return f\"{self.name} is a/an {self.__category} and is walking\"\n",
    "\n",
    "    def set_location(self, location):\n",
    "        self.location = location \n",
    "    \n",
    "    def get_category(self):\n",
    "        return self.__category\n",
    "    "
   ]
  },
  {
   "attachments": {},
   "cell_type": "markdown",
   "metadata": {},
   "source": [
    "<p></p>\n",
    "<br />\n",
    "<div id=\"sec_intro_to_intro\" style=\"direction:ltl;line-height:250%;\">\n",
    "\t<font face=\"XB Zar\" size=5>\n",
    "\t\t<font color='crimson' size=7>\n",
    "            Creating sub-classes\n",
    "        </font>\n",
    "\t\t<p></p>\n",
    "\t\t<hr>\n",
    "       Creating ## sub-classes of Animal class.\n",
    "        <br />\n",
    "\t</font>\n",
    "</div>"
   ]
  },
  {
   "attachments": {},
   "cell_type": "markdown",
   "metadata": {},
   "source": [
    "- eating method is not completed\n",
    "- category variable is not completed"
   ]
  },
  {
   "attachments": {},
   "cell_type": "markdown",
   "metadata": {},
   "source": [
    "- **Polymorphism** implemented through **speak** & **eat** method. Each class implemented **speak** and **eat** method in their own way."
   ]
  },
  {
   "cell_type": "code",
   "execution_count": null,
   "metadata": {},
   "outputs": [],
   "source": [
    "#4\n",
    "class Dog(Animal):\n",
    "    \n",
    "    def __init__(self, name, color, age, weight, location, heartrate, brainneurons, friendly, health_issues):\n",
    "        super().__init__(name, color, age, \"mammals\", weight, location, heartrate, brainneurons)\n",
    "        self.friendy = friendly\n",
    "        self.health_issues = health_issues\n",
    "        \n",
    "    def speak(self): # Overriding the speak method \n",
    "       return \"Woof\"\n",
    "   \n",
    "    def eat(self): # Overriding the eat method\n",
    "        return f\"{self.name} is eating cooked meat\"\n",
    "    \n",
    "    def gurad(self):\n",
    "        return f\"{self.name} is guarding\"\n",
    "#5\n",
    "class Cat(Animal):\n",
    "    \n",
    "    def __init__(self, name, color, age, weight, location, heartrate, brainneurons, friendly, paw_size):\n",
    "        super().__init__(name, color, age, \"mammals\", weight, location, heartrate, brainneurons)\n",
    "        self.friendly = friendly\n",
    "        self.paw_size = paw_size\n",
    "\n",
    "    def speak(self): # Overriding the speak method\n",
    "        return \"Meow\"\n",
    "    \n",
    "    def eat(self): # Overriding the eat method\n",
    "        return f\"{self.name} is eating commercial cat food\"\n",
    "    \n",
    "    def play(self):\n",
    "        return f\"{self.name} is playing\"\n",
    "#6\n",
    "class Cow(Animal):\n",
    "    \n",
    "    def __init__(self, name, color, age, weight, location, heartrate, brainneurons, vmilk_production, meat_production):\n",
    "        super().__init__(name, color, age, \"mammals\", weight, location, heartrate, brainneurons)\n",
    "        self.vmilk_production = vmilk_production\n",
    "        self.meat_production = meat_production\n",
    "\n",
    "    def speak(self): # Overriding the speak method\n",
    "        return \"Moo\"\n",
    "    \n",
    "    def eat(self): # Overriding the eat method\n",
    "        return f\"{self.name} is eating grains\"\n",
    "    \n",
    "    def walk(self):\n",
    "        return f\"{self.name} is walking\"\n",
    "        \n",
    "#7\n",
    "class Sheep(Animal):\n",
    "    \n",
    "    def __init__(self, name, color, age, weight, location, heartrate, brainneurons, vwool_production, meat_production):\n",
    "        super().__init__(name, color, age, \"mammals\", weight, location, heartrate, brainneurons)\n",
    "        self.vwool_production = vwool_production\n",
    "        self.meat_production = meat_production\n",
    "        \n",
    "    def speak(self): # Overriding the speak method\n",
    "        return \"Baa\"\n",
    "    \n",
    "    def eat(self): # Overriding the eat method\n",
    "        return f\"{self.name} is eating hay\"\n",
    "    \n",
    "    \n",
    "#8\n",
    "class Duck(Animal):\n",
    "    \n",
    "    def __init__(self, name, color, age, weight, location, heartrate, brainneurons, migratoy, diving_depth):\n",
    "        super().__init__(name, color, age, \"birds\", weight, location, heartrate, brainneurons)\n",
    "        self.migratory = migratoy\n",
    "        self.diving_depth = diving_depth\n",
    "        \n",
    "    def speak(self): # Overriding the speak method\n",
    "        return \"Quack\"\n",
    "\n",
    "    def eat(self): # Overriding the eat method\n",
    "        return f\"{self.name} is eating a small fish\"\n",
    "    \n",
    "    def fly(self): # Defining another attribute\n",
    "        return f\"{self.name} is flying\"\n",
    "    \n",
    "    def swim(self): # Defining another attribute\n",
    "        return f\"{self.name} is swimming\"\n",
    "#9\n",
    "class Snake(Animal):\n",
    "    \n",
    "    def __init__(self, name, color, age, weight, location, heartrate, brainneurons, length, is_venomous):\n",
    "        super().__init__(name, color, age, \"reptiles\", weight, location, heartrate, brainneurons)\n",
    "        self.length = length\n",
    "        self.is_venomous = is_venomous\n",
    "        \n",
    "    def speak(self): # Overriding the speak method\n",
    "        return \"Hiss\"\n",
    "\n",
    "    def eat(self): # Overriding the eat method\n",
    "        return f\"{self.name} is eating a small bird\"\n",
    "    \n",
    "    def shedding_skin(self): # Defining another attribute\n",
    "        return f\"{self.name} is shedding its skin\"\n",
    "#10\n",
    "class Lion(Animal):\n",
    "    \n",
    "    def __init__(self, name, color, age, weight, location, heartrate, brainneurons, habitat, speed):\n",
    "        super().__init__(name, color, age, \"mammals\", weight, location, heartrate, brainneurons)\n",
    "        self.habitat = habitat\n",
    "        self.speed = speed\n",
    "        \n",
    "    def speak(self): # Overriding the speak method\n",
    "        return \"Roar\"\n",
    "\n",
    "    def eat(self): # Overriding the eat method\n",
    "        return f\"{self.name} is eating a zebra\"\n",
    "    \n",
    "    def hunt(self):\n",
    "        return \"{self.name} is hunting\"\n",
    "#11\n",
    "class Lizard(Animal):\n",
    "    \n",
    "    def __init__(self, name, color, age, weight, location, heartrate, brainneurons, tail, is_venomous):\n",
    "        super().__init__(name, color, age, \"reptiles\", weight, location, heartrate, brainneurons)\n",
    "        self.tail = tail\n",
    "        self.is_venomous = is_venomous\n",
    "        \n",
    "    def speak(self): # Overriding the speak method\n",
    "        return \"Hiss\"\n",
    "\n",
    "    def eat(self): # Overriding the eat method\n",
    "        return f\"{self.name} is eating fruits\"\n",
    "#12\n",
    "class Monkey(Animal):\n",
    "    \n",
    "    def __init__(self, name, color, age, weight, location, heartrate, brainneurons, lifespan, imitation):\n",
    "        super().__init__(name, color, age, \"mammals\", weight, location, heartrate, brainneurons)\n",
    "        self.lifespan = lifespan\n",
    "        self.imitation = imitation\n",
    "        \n",
    "    def speak(self): # Overriding the speak method\n",
    "        return \"ooh ooh aah aah\"\n",
    "\n",
    "    def eat(self): # Overriding the eat method\n",
    "        return f\"{self.name} is eating a bannana\"\n",
    "#13  \n",
    "class Insect(Animal):\n",
    "    \n",
    "    def __init__(self, name, color, age, weight, location, heartrate, brainneurons, legs, is_venomous):\n",
    "        super().__init__(name, color, age, \"invertebrates\", weight, location, heartrate, brainneurons)\n",
    "        self.legs = legs\n",
    "        self.is_venomous = is_venomous\n",
    "        \n",
    "    def speak(self): # Overriding the speak method\n",
    "        return \"Viz\"\n",
    "\n",
    "    def eat(self): # Overriding the eat method\n",
    "        return f\"{self.name} is eating a small worm\"\n",
    "    \n",
    "    def camouflage(self): # Defining another attribute\n",
    "        return f\"{self.name} is an invertebrate and is blending\"\n",
    "#14\n",
    "class Rabbit(Animal):\n",
    "    \n",
    "    def __init__(self, name, color, age, weight, location, heartrate, brainneurons, legs, diet):\n",
    "        super().__init__(name, color, age, \"mammals\", weight, location, heartrate, brainneurons)\n",
    "        self.legs = legs\n",
    "        self.diet = diet\n",
    "        \n",
    "    def speak(self): # Overriding the speak method\n",
    "        return \"Squeak\"\n",
    "\n",
    "    def eat(self): # Overriding the eat method\n",
    "        return f\"{self.name} is eating {self.diet}\"\n",
    "    \n",
    "    #fixe3d\n"
   ]
  },
  {
   "attachments": {},
   "cell_type": "markdown",
   "metadata": {},
   "source": [
    "<p></p>\n",
    "<br />\n",
    "<div id=\"sec_intro_to_intro\" style=\"direction:ltl;line-height:250%;\">\n",
    "\t<font face=\"XB Zar\" size=5>\n",
    "\t\t<font color='crimson' size=7>\n",
    "            Creating class for Aggregation\n",
    "        </font>\n",
    "\t\t<p></p>\n",
    "\t\t<hr>\n",
    "       Creating Zoo class for Aggregation.\n",
    "        <br />\n",
    "\t</font>\n",
    "</div>"
   ]
  },
  {
   "cell_type": "code",
   "execution_count": 3,
   "metadata": {},
   "outputs": [],
   "source": [
    "dog = Dog(\"ricard\", \"yellow\", 3, 12, \"iran\", 50, True, False)\n",
    "cat = Cat(\"melon\", \"narenji\", 1, 12, \"iran\", 73, True, 3)"
   ]
  },
  {
   "cell_type": "code",
   "execution_count": 4,
   "metadata": {},
   "outputs": [],
   "source": [
    "dog.Heartobjet.update_rate(40)"
   ]
  },
  {
   "cell_type": "code",
   "execution_count": 5,
   "metadata": {},
   "outputs": [
    {
     "data": {
      "text/plain": [
       "40"
      ]
     },
     "execution_count": 5,
     "metadata": {},
     "output_type": "execute_result"
    }
   ],
   "source": [
    "dog.Heartobjet.display_rate()"
   ]
  },
  {
   "cell_type": "code",
   "execution_count": 6,
   "metadata": {},
   "outputs": [],
   "source": [
    "class Zoo:\n",
    "    def __init__(self, name, location, animal=None):\n",
    "        self.name = name\n",
    "        self.location = location\n",
    "        self.animal = animal\n",
    "\n",
    "        if animal is None:\n",
    "            self.animal = list()\n",
    "        elif  not isinstance(self.animal, list):\n",
    "            raise TypeError(\"Animals must be into list forms\")            \n",
    "        \n",
    "    def show_animals_name(self):\n",
    "        animal_names = []\n",
    "        if len(self.animal) == 0:\n",
    "            return f\"There is no animal in {self.name} Zoo\"\n",
    "        else:\n",
    "            for Animal in self.animal:\n",
    "                animal_names.append(Animal.name)\n",
    "            return animal_names\n",
    "        \n",
    "    def add_animal(self, animal):\n",
    "        if not isinstance(animal, list):\n",
    "            raise TypeError(\"Animals must be into list forms\") \n",
    "        else:\n",
    "            for Animal in animal:\n",
    "                self.animal.append(Animal)\n",
    "                return f\"Animals successfully added to the {self.name} zoo\"\n",
    "    def remove_animal(self, animal):\n",
    "        if animal in self.animal:\n",
    "            self.animal.remove(animal)\n",
    "            return f\"{animal.__class__.__name__} successfully removed from the {self.name} zoo\"\n",
    "        else:\n",
    "            return f\"There is no {animal.__class__.__name__} in Zoo\" \n",
    "\n",
    "zoo = Zoo(\"ahmad\", \"iran\", [dog])"
   ]
  },
  {
   "cell_type": "code",
   "execution_count": 7,
   "metadata": {},
   "outputs": [
    {
     "name": "stdout",
     "output_type": "stream",
     "text": [
      "['ricard']\n"
     ]
    },
    {
     "data": {
      "text/plain": [
       "['ricard']"
      ]
     },
     "execution_count": 7,
     "metadata": {},
     "output_type": "execute_result"
    }
   ],
   "source": [
    "print(zoo.show_animals_name())\n",
    "#print(zoo.remove_animal(dog))\n",
    "zoo.show_animals_name()"
   ]
  },
  {
   "cell_type": "code",
   "execution_count": 8,
   "metadata": {},
   "outputs": [
    {
     "data": {
      "text/plain": [
       "'Animals successfully added to the ahmad zoo'"
      ]
     },
     "execution_count": 8,
     "metadata": {},
     "output_type": "execute_result"
    }
   ],
   "source": [
    "zoo.add_animal([cat])"
   ]
  },
  {
   "cell_type": "code",
   "execution_count": null,
   "metadata": {},
   "outputs": [],
   "source": []
  }
 ],
 "metadata": {
  "kernelspec": {
   "display_name": "Python 3",
   "language": "python",
   "name": "python3"
  },
  "language_info": {
   "codemirror_mode": {
    "name": "ipython",
    "version": 3
   },
   "file_extension": ".py",
   "mimetype": "text/x-python",
   "name": "python",
   "nbconvert_exporter": "python",
   "pygments_lexer": "ipython3",
   "version": "3.10.0"
  },
  "orig_nbformat": 4
 },
 "nbformat": 4,
 "nbformat_minor": 2
}
